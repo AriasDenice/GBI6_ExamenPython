{
 "cells": [
  {
   "cell_type": "markdown",
   "metadata": {},
   "source": [
    "<img src=\"https://www.ikiam.edu.ec/img/logo-ikiam-grey.png\" width=400 height=300 />\n",
    "\n",
    "\n",
    "### <center><h2> INGENIERÍA EN BIOTECNOLOGÍA</h2></center>\n",
    "## <center><h1 style=\"color:red\">GBI6 - BIOINFORMÁTICA</h1></center>\n",
    "\n",
    "\n",
    " <center><h2> EXAMEN PARCIAL PYTHON</h2></center>\n",
    "    \n",
    "\n",
    " <center><h2> GBI6-2021II: BIOINFORMÁTICA</h2></center>\n",
    "\n",
    " <center><h2>Arias Carrillo Denice Mariela</h2></center>\n",
    "\n",
    " <center><h2>03-08-2022</h2></center>"
   ]
  },
  {
   "cell_type": "markdown",
   "metadata": {},
   "source": [
    "| Modelo | Descripción |\n",
    "| --- | ---| \n",
    "| `Nombre del dispositivo` |\tDESKTOP-AP1T4QU | \n",
    "| `Procesador` | \tIntel(R) Core(TM) i5-8250U CPU @ 1.60GHz   1.80 GHz |\n",
    "| `RAM instalada`  | \t8,00 GB  |\n",
    "| `Identificador del dispositivo` |\t4AAEFE43-18E9-4F37-8059-7D2B0C84FEC1 |\n",
    "| `Id del producto` | \t00326-30000-00001-AA255 |\n",
    "| `Tipo de sistema` | \tSistema operativo de 64 bits, procesador basado en x64 |\n",
    "| `Lápiz y entrada táctil` | \tLa entrada táctil o manuscrita no está disponible para esta pantalla |        "
   ]
  },
  {
   "cell_type": "markdown",
   "metadata": {},
   "source": [
    "### REQUERIMIENTOS PARA EL EXAMEN\n",
    "\n",
    "Utilice de preferencia ```Jupyter``` de Anaconda, dado que tienen que hacer un control de cambios en cada pregunta. \n",
    "\n",
    "Para este examen se requiere dos documentos: \n",
    "\n",
    "1. Archivo ```miningscience.py``` donde tendrá dos funciones:\n",
    "\n",
    "2. Archivo ```2022I_GBI6_ExamenPython``` donde se llamará las funciones y se obtendrá resultados."
   ]
  },
  {
   "cell_type": "markdown",
   "metadata": {},
   "source": [
    "## Ejercicio 0 [0.5 puntos]\n",
    "Realice cambios al cuaderno de jupyter: \n",
    "- Agregue el logo de la Universidad\n",
    "- Coloque sus datos personales \n",
    "- Escriba una **tabla** con las características de su computador \n"
   ]
  },
  {
   "cell_type": "markdown",
   "metadata": {},
   "source": [
    "## Ejercicio 1 [2 puntos]\n",
    "Cree el archivo ```miningscience.py``` con las siguientes dos funciones:\n",
    "    \n",
    "i. ```download_pubmed```: para descargar la data de PubMed utilizando el **ENTREZ** de Biopython. El parámetro de entrada para la función es el ```keyword```. \n",
    "    \n",
    "ii. ```map_science```: para su data replique el ejemplo de [MapOfScience](https://github.com/CSB-book/CSB/blob/master/regex/solutions/MapOfScience_solution.ipynb), donde los puntos resaltados son al menos 5 países\n",
    "\n",
    "iii *Cree un docstring para cada función.* \n",
    "\n",
    "Luego de crear las funciones, cargue el módulo ```miningscience``` como ```msc``` e **imprima docstring de cada función**.\n"
   ]
  },
  {
   "cell_type": "code",
   "execution_count": 1,
   "metadata": {},
   "outputs": [],
   "source": [
    "import miningscience\n",
    "?miningscience"
   ]
  },
  {
   "cell_type": "code",
   "execution_count": 2,
   "metadata": {},
   "outputs": [],
   "source": []
  },
  {
   "cell_type": "markdown",
   "metadata": {},
   "source": [
    "\n",
    "## Ejercicio 2 [2 puntos]\n",
    "\n",
    "\n",
    "Utilice dos veces la función ```download_pubmed``` para: \n",
    "\n",
    "- Descargar la data, utilizando los keyword de su preferencia. \n",
    "- Guardar el archivo descargado en la carpeta ```data```.\n",
    "\n",
    "Para cada corrida, imprima lo siguiente: \n",
    "\n",
    "```python\n",
    "'El número artículos para KEYWORD es: XX' # Que se cargue con inserción de texto o valor que correspondea KEYWORD y XX\n",
    "```"
   ]
  },
  {
   "cell_type": "code",
   "execution_count": 9,
   "metadata": {},
   "outputs": [],
   "source": [
    "?miningscience.download_pubmed\n",
    "?miningscience.map_science"
   ]
  },
  {
   "cell_type": "code",
   "execution_count": 10,
   "metadata": {},
   "outputs": [],
   "source": [
    "My_pop = miningscience.download_pubmed('Lion')\n"
   ]
  },
  {
   "cell_type": "code",
   "execution_count": 3,
   "metadata": {},
   "outputs": [],
   "source": [
    "from Bio import GenBank \n",
    "from Bio import SeqIO\n",
    "from Bio import Entrez\n",
    "\n",
    "from collections import Counter\n",
    "import re\n",
    "import csv \n",
    "import pandas as pd "
   ]
  },
  {
   "cell_type": "code",
   "execution_count": 3,
   "metadata": {},
   "outputs": [
    {
     "name": "stdout",
     "output_type": "stream",
     "text": [
      "El numero de articulos es: 23\n"
     ]
    }
   ],
   "source": [
    "print (\"El numero de articulos es:\", len('data/pubmed_results.txt'))"
   ]
  },
  {
   "cell_type": "markdown",
   "metadata": {},
   "source": [
    "## Ejercicio 3 [1.5 puntos]\n",
    "\n",
    "Utilice dos veces la función ```map_science``` para: \n",
    "\n",
    "- Visualizar un mapa para cada data descargada en el ejercicio 2.\n",
    "- Guardar los mapas en la carpeta ```img```"
   ]
  },
  {
   "cell_type": "code",
   "execution_count": 7,
   "metadata": {},
   "outputs": [
    {
     "data": {
      "image/png": "[encoded data removed]",
      "text/plain": [
       "<Figure size 1296x864 with 2 Axes>"
      ]
     },
     "metadata": {
      "needs_background": "light"
     },
     "output_type": "display_data"
    }
   ],
   "source": [
    "miningscience.map_science('Lion.txt')"
   ]
  },
  {
   "cell_type": "markdown",
   "metadata": {},
   "source": [
    "## Ejercicio 4 [1 punto]\n",
    "\n",
    "**Interprete** los resultados de las figuras del **ejercicio 3**"
   ]
  },
  {
   "cell_type": "markdown",
   "metadata": {},
   "source": [
    "## Ciudades que tienen más articulos según su color en el mapa\n",
    "\n",
    "- San Antonio tiene 2 articulos aprox\n",
    "- Phoenix tiene 2 articulos aprox\n",
    "- Indianopolis tiene 2 articulos aprox\n",
    "- Philadelphia tiene 2 artículos aprox\n",
    "- Dallas de 2 a 4 articulos aprox\n",
    "- Charlotte de 6 a 8 artículos \n",
    "\n",
    "## Conclusión\n",
    "\n",
    "- El número de artículos publicados en dichos países va de 2 a máximo 8 artículos, lo cuál es un número bajo de publicaciones\n"
   ]
  },
  {
   "cell_type": "markdown",
   "metadata": {},
   "source": [
    "## Ejercicio 5 [2 puntos]\n",
    "\n",
    "Para algún **gen de interés** (podría usar [Lista de genes por tipología](https://www.genome.jp/kegg/pathway.html#metabolism)), realice lo siguiente: \n",
    "\n",
    "1. Una búsqueda en la página del [NCBI nucleotide](https://www.ncbi.nlm.nih.gov/nucleotide/).\n",
    "\n",
    "2. Descargue el ```Accession List``` de su búsqueda y guarde en la carpeta ```data```.\n",
    "\n",
    "3. Cargue el ```Accession List``` en este notebook y haga una descarga de las secuencias de los **quince primeros** IDs de la accesión. \n",
    "\n",
    "4. Arme un árbol filogenético para los resultados del paso 3.\n",
    "\n",
    "5. Guarde su arbol filogénetico en la carpeta ```img```\n",
    "\n",
    "5. Interprete el árbol del paso 4. "
   ]
  },
  {
   "cell_type": "code",
   "execution_count": 2,
   "metadata": {},
   "outputs": [],
   "source": [
    "from Bio import SeqIO\n",
    "from Bio import AlignIO\n",
    "from Bio import Phylo"
   ]
  },
  {
   "cell_type": "code",
   "execution_count": 3,
   "metadata": {},
   "outputs": [],
   "source": [
    "from Bio.Align.Applications import ClustalwCommandline\n",
    "import os"
   ]
  },
  {
   "cell_type": "code",
   "execution_count": null,
   "metadata": {},
   "outputs": [],
   "source": [
    "clustalw_exe = r\"C:\\Program Files (x86)\\ClustalW2\\clustalw2.exe\"\n",
    "clustalw_cline = ClustalwCommandline(clustalw_exe, infile = \"data/rag2s.fasta\")\n",
    "assert os.path.isfile(clustalw_exe), \"Clustal_W executable is missing or not found\"\n",
    "stdout, stderr = clustalw_cline()\n",
    "print(clustalw_cline)"
   ]
  },
  {
   "cell_type": "code",
   "execution_count": null,
   "metadata": {},
   "outputs": [],
   "source": [
    "ClustalAlign = AlignIO.read(\"data/sequence.seq\", \"clustal\")\n",
    "print(ClustalAlign)"
   ]
  },
  {
   "cell_type": "code",
   "execution_count": null,
   "metadata": {},
   "outputs": [],
   "source": [
    "from Bio import Phylo\n",
    "tree = Phylo.read(\"data/sequence.seq\", \"newick\")\n",
    "Phylo.draw_ascii(tree)\n",
    "fig = Phylo.draw(tree)\n",
    "fig.savefig(\"img/tree\")\n"
   ]
  },
  {
   "cell_type": "markdown",
   "metadata": {},
   "source": [
    "**Escriba aquí la interpretación del árbol**"
   ]
  },
  {
   "cell_type": "markdown",
   "metadata": {},
   "source": [
    "## Ejercicio 6 [1 punto]\n",
    "\n",
    "\n",
    "1. Cree en GitHub un repositorio de nombre ```GBI6_ExamenPython```. \n",
    "2. Cree un archivo ```Readme.md``` que debe tener lo siguiente: \n",
    "- Datos personales\n",
    "- Características del computador\n",
    "- Versión de Python/Anaconda y de cada uno de los módulos/paquetes y utilizados\n",
    "- Explicación de la data utilizada\n",
    "- Un diagrama de procesos del módulo ```miningscience```\n",
    "3. Asegurarse que su repositorio tiene las carpetas ```data``` e ```img``` con los archivos que ha ido guardando en las preguntas anteriores.  \n",
    "4. Realice al menos 1 control de la versión (commits) por cada ejercicio (del 1 al 5), con un mensaje que inicie como: \n",
    "\n",
    "```sh \n",
    "Carlitos Alimaña ha realizado el ejercicio 1  \n",
    "```\n",
    "```sh \n",
    "Carlitos Alimaña ha realizado el ejercicio 2\n",
    "```\n",
    "```sh \n",
    "...\n",
    "```\n"
   ]
  },
  {
   "cell_type": "code",
   "execution_count": null,
   "metadata": {},
   "outputs": [],
   "source": []
  }
 ],
 "metadata": {
  "kernelspec": {
   "display_name": "Python 3 (ipykernel)",
   "language": "python",
   "name": "python3"
  },
  "language_info": {
   "codemirror_mode": {
    "name": "ipython",
    "version": 3
   },
   "file_extension": ".py",
   "mimetype": "text/x-python",
   "name": "python",
   "nbconvert_exporter": "python",
   "pygments_lexer": "ipython3",
   "version": "3.9.12"
  },
  "latex_envs": {
   "LaTeX_envs_menu_present": true,
   "autoclose": false,
   "autocomplete": true,
   "bibliofile": "biblio.bib",
   "cite_by": "apalike",
   "current_citInitial": 1,
   "eqLabelWithNumbers": true,
   "eqNumInitial": 1,
   "hotkeys": {
    "equation": "Ctrl-E",
    "itemize": "Ctrl-I"
   },
   "labels_anchors": false,
   "latex_user_defs": false,
   "report_style_numbering": false,
   "user_envs_cfg": false
  },
  "toc": {
   "base_numbering": 1,
   "nav_menu": {},
   "number_sections": true,
   "sideBar": false,
   "skip_h1_title": false,
   "title_cell": "Table of Contents",
   "title_sidebar": "Contents",
   "toc_cell": false,
   "toc_position": {
    "height": "1152.67px",
    "left": "41px",
    "top": "110px",
    "width": "253.458px"
   },
   "toc_section_display": true,
   "toc_window_display": false
  },
  "varInspector": {
   "cols": {
    "lenName": 16,
    "lenType": 16,
    "lenVar": 40
   },
   "kernels_config": {
    "python": {
     "delete_cmd_postfix": "",
     "delete_cmd_prefix": "del ",
     "library": "var_list.py",
     "varRefreshCmd": "print(var_dic_list())"
    },
    "r": {
     "delete_cmd_postfix": ") ",
     "delete_cmd_prefix": "rm(",
     "library": "var_list.r",
     "varRefreshCmd": "cat(var_dic_list()) "
    }
   },
   "types_to_exclude": [
    "module",
    "function",
    "builtin_function_or_method",
    "instance",
    "_Feature"
   ],
   "window_display": false
  }
 },
 "nbformat": 4,
 "nbformat_minor": 4
}
